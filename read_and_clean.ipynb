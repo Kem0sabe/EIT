{
 "cells": [
  {
   "cell_type": "markdown",
   "metadata": {},
   "source": [
    "# Read and clean data\n",
    "\n",
    "This notebook reads the relevant `.txt` files from the `data_raw` folder and stores it as seperate tables in a simple SQLite3 database.\n",
    "\n",
    "## Why SQLite3?\n",
    "When dealing with largee amounts of data that need to be queried in complicated ways, using a so-called relational database makes the process much easier. There are multiple softwares that support this, however, SQLite3 can be stored locally, making it easier to handle for both the author and the ones comming after him."
   ]
  },
  {
   "cell_type": "code",
   "execution_count": null,
   "metadata": {},
   "outputs": [],
   "source": [
    "import pandas as pd\n",
    "import sqlite3\n",
    "\n",
    "trips_df = pd.read_csv('data_raw/trips.txt')\n",
    "routes_df = pd.read_csv('data_raw/routes.txt')\n",
    "shapes_df = pd.read_csv('data_raw/shapes.txt')\n",
    "\n",
    "conn = sqlite3.connect('data/data.db')\n",
    "\n",
    "\n",
    "trips_df.to_sql('trips', conn, if_exists='replace', index=False)\n",
    "routes_df.to_sql('routes', conn, if_exists='replace', index=False)\n",
    "shapes_df.to_sql('shapes', conn, if_exists='replace', index=False)\n",
    "\n",
    "conn.close()"
   ]
  },
  {
   "cell_type": "markdown",
   "metadata": {},
   "source": [
    "The data is now stored in the `data.db` file in the `data` folder. It can thus be queried as in the `filter.ipynb`. "
   ]
  }
 ],
 "metadata": {
  "language_info": {
   "name": "python"
  }
 },
 "nbformat": 4,
 "nbformat_minor": 2
}
