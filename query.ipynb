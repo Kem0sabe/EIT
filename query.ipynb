{
 "cells": [
  {
   "cell_type": "markdown",
   "metadata": {},
   "source": [
    "# Query data\n",
    "From our database we want to query out relevant information for representing our bus routes.\n",
    "\n",
    "Load dependencies:"
   ]
  },
  {
   "cell_type": "code",
   "execution_count": 1,
   "metadata": {},
   "outputs": [],
   "source": [
    "import numpy as np\n",
    "import pandas as pd \n",
    "import sqlite3\n",
    "import json\n",
    "\n",
    "pd.set_option('display.max_colwidth', None)\n",
    "pd.set_option('display.max_rows', 700)\n"
   ]
  },
  {
   "cell_type": "markdown",
   "metadata": {},
   "source": [
    "## Load the main bus routes\n",
    "These are the normal routes driven by each bus. This does not include alternate routes during weekends, rush hours etc."
   ]
  },
  {
   "cell_type": "code",
   "execution_count": 3,
   "metadata": {},
   "outputs": [],
   "source": [
    "import json\n",
    "conn = sqlite3.connect('data/data.db')\n",
    "query = '''\n",
    "WITH UniqueRoutes AS (\n",
    "    SELECT \n",
    "        MIN(routes.route_id) AS min_route_id,\n",
    "        routes.route_short_name,\n",
    "        routes.route_long_name,\n",
    "        trips.route_id,\n",
    "        trips.shape_id\n",
    "    FROM routes\n",
    "    INNER JOIN trips ON routes.route_id = trips.route_id\n",
    "    GROUP BY routes.route_id\n",
    ")\n",
    "\n",
    "select route_short_name ,shape_pt_lat, shape_pt_lon,shape_dist_traveled,route_long_name from UniqueRoutes\n",
    "Inner join shapes ON UniqueRoutes.shape_id == shapes.shape_id\n",
    "'''\n",
    "df = pd.read_sql_query(query, conn)\n",
    "conn.close()\n",
    "df.to_csv(\"data/routes_normal.csv\", index=False)\n",
    "\n",
    "\n",
    "\n"
   ]
  },
  {
   "cell_type": "code",
   "execution_count": null,
   "metadata": {},
   "outputs": [],
   "source": []
  },
  {
   "cell_type": "code",
   "execution_count": null,
   "metadata": {},
   "outputs": [],
   "source": []
  }
 ],
 "metadata": {
  "kernelspec": {
   "display_name": "Python 3",
   "language": "python",
   "name": "python3"
  },
  "language_info": {
   "codemirror_mode": {
    "name": "ipython",
    "version": 3
   },
   "file_extension": ".py",
   "mimetype": "text/x-python",
   "name": "python",
   "nbconvert_exporter": "python",
   "pygments_lexer": "ipython3",
   "version": "3.9.6"
  }
 },
 "nbformat": 4,
 "nbformat_minor": 2
}
